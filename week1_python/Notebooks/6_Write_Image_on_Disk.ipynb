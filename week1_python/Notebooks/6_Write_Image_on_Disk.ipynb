{
 "cells": [
  {
   "cell_type": "markdown",
   "metadata": {},
   "source": [
    "# <font style=\"color:rgb(50,120,229)\">Write the Image to Disk</font>\n",
    "In most cases, you would want to save the output of your application. We do this using the [**`imwrite`**](https://docs.opencv.org/4.1.0/d4/da8/group__imgcodecs.html#gabbc7ef1aa2edfaa87772f1202d67e0ce) function.\n",
    "\n",
    "\n",
    "### <font style=\"color:rgb(8,133,37)\">Function Syntax</font>\n",
    "```Python:\n",
    "retval\t=\tcv2.imwrite(\tfilename, img [, params]\t)\n",
    "```\n",
    "**Parameters**\n",
    "- **filename** - String providing the relative or absolute path where the image should be saved.\n",
    "- **img** - Image matrix to be saved.\n",
    "- **params** - Additional information, like specifying the JPEG compression quality etc. Check the full list [**here**](https://docs.opencv.org/4.1.0/d4/da8/group__imgcodecs.html#ga292d81be8d76901bff7988d18d2b42ac)"
   ]
  },
  {
   "cell_type": "code",
   "execution_count": 1,
   "metadata": {
    "collapsed": true
   },
   "outputs": [],
   "source": [
    "# Import libraries\n",
    "import cv2\n",
    "import numpy as np\n",
    "from dataPath import DATA_PATH\n",
    "import matplotlib.pyplot as plt\n",
    "%matplotlib inline"
   ]
  },
  {
   "cell_type": "code",
   "execution_count": 2,
   "metadata": {
    "collapsed": true
   },
   "outputs": [],
   "source": [
    "import matplotlib\n",
    "matplotlib.rcParams['figure.figsize'] = (6.0, 6.0)\n",
    "matplotlib.rcParams['image.cmap'] = 'gray'"
   ]
  },
  {
   "cell_type": "code",
   "execution_count": 3,
   "metadata": {
    "collapsed": true
   },
   "outputs": [],
   "source": [
    "imagePath = DATA_PATH + \"/images/number_zero.jpg\"\n",
    "\n",
    "# Read image in Grayscale format\n",
    "testImage = cv2.imread(imagePath,0)"
   ]
  },
  {
   "cell_type": "code",
   "execution_count": 4,
   "metadata": {},
   "outputs": [
    {
     "data": {
      "text/plain": [
       "<matplotlib.colorbar.Colorbar at 0x1858a3bb690>"
      ]
     },
     "execution_count": 4,
     "metadata": {},
     "output_type": "execute_result"
    },
    {
     "data": {
      "image/png": "[encoded data removed]",
      "text/plain": [
       "<Figure size 600x600 with 2 Axes>"
      ]
     },
     "metadata": {},
     "output_type": "display_data"
    }
   ],
   "source": [
    "plt.imshow(testImage)\n",
    "plt.title(\"Test Image\")\n",
    "plt.colorbar()"
   ]
  },
  {
   "cell_type": "code",
   "execution_count": 5,
   "metadata": {},
   "outputs": [
    {
     "data": {
      "text/plain": [
       "True"
      ]
     },
     "execution_count": 5,
     "metadata": {},
     "output_type": "execute_result"
    }
   ],
   "source": [
    "cv2.imwrite(\"test.jpg\",testImage) # Write image to disk in JPEG format "
   ]
  },
  {
   "cell_type": "markdown",
   "metadata": {},
   "source": [
    "We can see that the above function call returned True which indicates that the file was successfuly saved. Let's check it using the `ls` magic command available in Jupyter Notebook."
   ]
  },
  {
   "cell_type": "code",
   "execution_count": 6,
   "metadata": {},
   "outputs": [
    {
     "name": "stdout",
     "output_type": "stream",
     "text": [
      " Volume in drive C has no label.\n",
      " Volume Serial Number is 740C-AF3C\n",
      "\n",
      " Directory of c:\\Users\\Naveed Ul Mustafa\\OneDrive - Technische Universit�t Berlin\\Germany Summer2021 (Done)\\TU Berlin (Semester Docs+Course Work)\\Winters 22-23\\Cloned Repos\\Computer-Vision-1\\week1_python\\Notebooks\n",
      "\n",
      "\n",
      " Directory of c:\\Users\\Naveed Ul Mustafa\\OneDrive - Technische Universit�t Berlin\\Germany Summer2021 (Done)\\TU Berlin (Semester Docs+Course Work)\\Winters 22-23\\Cloned Repos\\Computer-Vision-1\\week1_python\\Notebooks\n",
      "\n",
      "23/02/2023  17:44               584 test.jpg\n",
      "               1 File(s)            584 bytes\n",
      "               0 Dir(s)  186.193.977.344 bytes free\n"
     ]
    }
   ],
   "source": [
    "%ls -l test.jpg"
   ]
  },
  {
   "cell_type": "code",
   "execution_count": null,
   "metadata": {},
   "outputs": [],
   "source": []
  }
 ],
 "metadata": {
  "kernelspec": {
   "display_name": "opencv",
   "language": "python",
   "name": "python3"
  },
  "language_info": {
   "codemirror_mode": {
    "name": "ipython",
    "version": 3
   },
   "file_extension": ".py",
   "mimetype": "text/x-python",
   "name": "python",
   "nbconvert_exporter": "python",
   "pygments_lexer": "ipython3",
   "version": "3.11.0"
  },
  "vscode": {
   "interpreter": {
    "hash": "79beebd6834f850463b097f993badc2f68c8b9659f99b2568dc0447e85ace964"
   }
  }
 },
 "nbformat": 4,
 "nbformat_minor": 2
}
