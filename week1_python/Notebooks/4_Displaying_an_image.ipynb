{
 "cells": [
  {
   "cell_type": "markdown",
   "metadata": {},
   "source": [
    "# <font style=\"color:rgb(50,120,229)\">Displaying an Image</font>\n",
    "In the previous section, we printed out the Image matrix and were able to make out what the image was. However, this is not the correct way to visualize images as it wont be possible to print large arrays and make out anything.\n",
    "\n",
    "Let's see how we should display the images so that it looks more familiar!\n",
    "\n",
    "We can use two functions for displaying an image."
   ]
  },
  {
   "cell_type": "markdown",
   "metadata": {},
   "source": [
    "### <font style=\"color:rgb(200,0,0)\">NOTE </font>\n",
    "\n",
    "One important thing to note while displaying images is the datatype of the image. The display functions expect the images to be in the following format.\n",
    "1. If the image is in float data type, then the range of values should be between 0 and 1.\n",
    "1. If the image is in int data type, then the range of values should be between 0 and 255.\n",
    "\n",
    "Keep this in mind to avoid undesirable outputs while displaying the images.\n"
   ]
  },
  {
   "attachments": {},
   "cell_type": "markdown",
   "metadata": {},
   "source": [
    "While converting from int to float, the values are divided by 255. This is done to normalize the values between 0 and 1. This is done because the display functions expect the values to be in this range."
   ]
  },
  {
   "cell_type": "markdown",
   "metadata": {},
   "source": [
    "## <font style=\"color:rgb(50,120,229)\">1. Matplotlib's imshow</font>\n",
    "This function will be used when we want to display the image in Jupyter Notebook.\n",
    "\n",
    "### <font style=\"color:rgb(8,133,37)\">Function Syntax</font>\n",
    "\n",
    "```Python:\n",
    "None\t=\tplt.imshow( mat )\n",
    "```\n",
    "**Parameters**\n",
    "- **`mat`** - Image to be displayed.\n",
    "\n",
    "\n",
    "This function takes a many arguments but has only 1 mandatory argument. You can have a look at the [documentation](https://matplotlib.org/3.1.0/api/_as_gen/matplotlib.pyplot.imshow.html) to see what are the other arguments available."
   ]
  },
  {
   "cell_type": "code",
   "execution_count": 2,
   "metadata": {
    "collapsed": true
   },
   "outputs": [],
   "source": [
    "# Import libraries\n",
    "import cv2\n",
    "import numpy as np\n",
    "from dataPath import DATA_PATH\n",
    "import matplotlib.pyplot as plt\n",
    "%matplotlib inline"
   ]
  },
  {
   "cell_type": "code",
   "execution_count": 3,
   "metadata": {
    "collapsed": true
   },
   "outputs": [],
   "source": [
    "import matplotlib\n",
    "matplotlib.rcParams['figure.figsize'] = (6.0, 6.0)\n",
    "matplotlib.rcParams['image.cmap'] = 'gray'"
   ]
  },
  {
   "cell_type": "code",
   "execution_count": 4,
   "metadata": {},
   "outputs": [
    {
     "data": {
      "text/plain": [
       "<matplotlib.colorbar.Colorbar at 0x1d33acacfd0>"
      ]
     },
     "execution_count": 4,
     "metadata": {},
     "output_type": "execute_result"
    },
    {
     "data": {
      "image/png": "[encoded data removed]",
      "text/plain": [
       "<Figure size 600x600 with 2 Axes>"
      ]
     },
     "metadata": {},
     "output_type": "display_data"
    }
   ],
   "source": [
    "imagePath = DATA_PATH + \"/images/number_zero.jpg\"\n",
    "\n",
    "# Read image in Grayscale format\n",
    "testImage = cv2.imread(imagePath,0) \n",
    "plt.imshow(testImage)\n",
    "plt.colorbar()"
   ]
  },
  {
   "cell_type": "markdown",
   "metadata": {},
   "source": [
    "## <font style=\"color:rgb(50,120,229)\">2. OpenCV's imshow</font>\n",
    "This function will be used when we are running the Python script from command line.\n",
    "\n",
    "### <font style=\"color:rgb(8,133,37)\">Function Syntax</font>\n",
    "\n",
    "```Python:\n",
    "None\t=\tcv2.imshow(\twinname, mat\t)\n",
    "```\n",
    "**Parameters**\n",
    "- **`winname`** - Name of the window.\n",
    "- **`mat`** - Image to be displayed."
   ]
  },
  {
   "cell_type": "code",
   "execution_count": 5,
   "metadata": {
    "collapsed": true
   },
   "outputs": [],
   "source": [
    "# Read an image\n",
    "boy = cv2.imread(DATA_PATH + \"/images/boy.jpg\")\n",
    "# Display the image using imshow\n",
    "cv2.imshow(\"Boy\", boy)\n",
    "# Wait for user to press a key - 0 means wait indefinitely for a keypress\n",
    "#cv2.waitKey(0)\n",
    "# Destroy the window - this is necessary if you want to create multiple windows without them interfering with each other\n",
    "cv2.destroyAllWindows()"
   ]
  },
  {
   "cell_type": "markdown",
   "metadata": {},
   "source": [
    "The expected output of the above cell is shown below.\n",
    "<img src=\"https://www.learnopencv.com/wp-content/uploads/2020/08/boy.jpg\">\n",
    "### <font style=\"color:rgb(255,0,0)\">Note that this will work only if you run the notebook from your local system and if you have OpenCV installed locally.</font>\n"
   ]
  },
  {
   "attachments": {},
   "cell_type": "markdown",
   "metadata": {},
   "source": [
    "## Additional Display Utility Functions\n",
    "There are 4 more functions that are present in OpenCV which are commonly used with cv2.imshow function.\n"
   ]
  },
  {
   "attachments": {},
   "cell_type": "markdown",
   "metadata": {},
   "source": [
    "## <font style=\"color:rgb(50,120,229)\">1. cv2.namedWindow</font>\n",
    "\n",
    "This function is used to create a display window with a specific name. This name is provided as the first argument of this function. The second argument is a flag which decides whether the window can be **resized** (**`cv2.WINDOW_NORMAL`**) or it should be **fixed** to match the image size (**`cv2.WINDOW_AUTOSIZE`** - **Default flag**).\n",
    "\n",
    "### <font style = \"color:rgb(8,133,37)\">Function Syntax</font>\n",
    "[**`Docs`**](https://docs.opencv.org/4.1.0/d7/dfc/group__highgui.html#ga5afdf8410934fd099df85c75b2e0888b)\n",
    "```Python:\n",
    "None\t=\tcv2.namedWindow(\twinname[, flags]\t)\n",
    "```\n",
    "**Parameters**\n",
    "- **`winname`** - Name of the window in the window caption that may be used as a window identifier.\n",
    "- **`flags`** - Flags of the window. The supported flags are: (cv::WindowFlags)\n",
    "\n",
    "**<font color=green>Can you think of any situation where you would prefer to have a resizable display window?</font>**\n",
    "\n",
    "## <font style=\"color:rgb(50,120,229)\">2. cv2.waitKey</font>\n",
    "\n",
    "This function is widely used in image as well as video processing. It is a **keyboard binding function**. Its only argument is time in **milliseconds**. The function waits for specified milliseconds for any keyboard event. If you press any key in that time, the program continues. If **0** is passed, it waits **indefinitely** for a key stroke. It can also be set to detect specific key strokes which can be quite useful in video processing applications, as we will see in later sections.\n",
    "\n",
    "### <font style = \"color:rgb(8,133,37)\">Function Syntax</font>\n",
    "[**`Docs`**](https://docs.opencv.org/4.1.0/d7/dfc/group__highgui.html#ga5628525ad33f52eab17feebcfba38bd7)\n",
    "```Python:\n",
    "retval\t=\tcv2.waitKey(\t[, delay]\t)\n",
    "```\n",
    "**Parameters**\n",
    "- **`delay`** - Delay in milliseconds. 0 is the special value that means \"forever\".\n",
    "\n",
    "\n",
    "## <font style=\"color:rgb(50,120,229)\">3. cv2.destroyWindow</font>\n",
    "\n",
    "This function is used to destroy or close a particular display window. The name of the window is provided as an argument to this function.\n",
    "\n",
    "### <font style = \"color:rgb(8,133,37)\">Function Syntax</font>\n",
    "[**`Docs`**](https://docs.opencv.org/4.1.0/d7/dfc/group__highgui.html#ga851ccdd6961022d1d5b4c4f255dbab34)\n",
    "```Python:\n",
    "None\t=\tcv2.destroyWindow(\twinname\t)\n",
    "```\n",
    "**Parameters**\n",
    "- **`winname`** - Name of the window to be destroyed\n",
    "\n",
    "## <font style=\"color:rgb(50,120,229)\">4. cv2.destroyAllWindows</font>\n",
    "\n",
    "This function is used to destroy all display windows. This function does not take any arguments.\n",
    "\n",
    "### <font style = \"color:rgb(8,133,37)\">Function Syntax</font>\n",
    "[**`Docs`**](https://docs.opencv.org/4.1.0/d7/dfc/group__highgui.html#ga6b7fc1c1a8960438156912027b38f481)\n",
    "```Python:\n",
    "None\t=\tcv2.destroyAllWindows(\t\t)\n",
    "```"
   ]
  },
  {
   "cell_type": "markdown",
   "metadata": {},
   "source": []
  }
 ],
 "metadata": {
  "kernelspec": {
   "display_name": "opencv",
   "language": "python",
   "name": "python3"
  },
  "language_info": {
   "codemirror_mode": {
    "name": "ipython",
    "version": 3
   },
   "file_extension": ".py",
   "mimetype": "text/x-python",
   "name": "python",
   "nbconvert_exporter": "python",
   "pygments_lexer": "ipython3",
   "version": "3.11.0"
  },
  "vscode": {
   "interpreter": {
    "hash": "79beebd6834f850463b097f993badc2f68c8b9659f99b2568dc0447e85ace964"
   }
  }
 },
 "nbformat": 4,
 "nbformat_minor": 2
}
