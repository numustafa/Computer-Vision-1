{
 "cells": [
  {
   "cell_type": "markdown",
   "metadata": {},
   "source": [
    "# <font style=\"color:rgb(50,120,229)\">Overview </font>\n",
    "\n",
    "We have already discussed about how an image is formed and how it is stored. In this module, we will dive into the code and check out what are the functions available in OpenCV for manipulating images.\n",
    "\n",
    "We will cover the following:\n",
    "1. Image I/O - Read, Write & Display an image\n",
    "2. Image Properties - color, channels, shape, image structure\n",
    "3. Creating new images, accessing pixels and region of interest (ROI)"
   ]
  },
  {
   "cell_type": "markdown",
   "metadata": {},
   "source": [
    "# <font style=\"color:rgb(50,120,229)\">Import Libraries</font>"
   ]
  },
  {
   "cell_type": "code",
   "execution_count": 1,
   "metadata": {
    "collapsed": true
   },
   "outputs": [],
   "source": [
    "# Import libraries\n",
    "import cv2                  # OpenCV library\n",
    "import numpy as np              # Numpy library\n",
    "from dataPath import DATA_PATH        # dataPath module for data path to the image file \n",
    "import matplotlib.pyplot as plt         # Matplotlib library\n",
    "%matplotlib inline                    "
   ]
  },
  {
   "cell_type": "code",
   "execution_count": 2,
   "metadata": {
    "collapsed": true
   },
   "outputs": [],
   "source": [
    "import matplotlib\n",
    "matplotlib.rcParams['figure.figsize'] = (6.0, 6.0)       # set default size of plots b/c I like big plots :)\n",
    "matplotlib.rcParams['image.cmap'] = 'gray'              # Use gray color map for all plots, When image has shape (M,N,3) or (M,N,4), the values in img1 are interpreted as RGB or RGBA values. In this case the cmap is ignored."
   ]
  },
  {
   "attachments": {},
   "cell_type": "markdown",
   "metadata": {},
   "source": [
    "# <font style=\"color:rgb(50,120,229)\">Reading an Image</font>\n",
    "OpenCV allows reading different types of images (JPG, PNG, etc). You can load grayscale images colour images or you can also load images with Alpha channel (Alpha channel will be discussed in a later section). It uses the [**`imread`**](https://docs.opencv.org/4.1.0/d4/da8/group__imgcodecs.html#ga288b8b3da0892bd651fce07b3bbd3a56) function which has the following syntax:\n",
    "\n",
    "### <font style=\"color:rgb(8,133,37)\">Function Syntax </font>\n",
    "``` python\n",
    "retval\t=\tcv2.imread(\tfilename[, flags]\t)\n",
    "```\n",
    "\n",
    "It has **2 arguments**:\n",
    "\n",
    "1. `retval` is the image if it is successfully loaded. Otherwise it is `None`. This may happen if the filename is wrong or the file is corrupt.\n",
    "2. `Path of the image file`: This can be an **absolute** or **relative** path. This is a **mandatory argument**.\n",
    "3. `Flags`: These flags are used to read an image in a particular format (for example, grayscale/color/with alpha channel). This is an **optional argument** with a default value of `cv2.IMREAD_COLOR` or `1` which loads the image as a color image.\n",
    "\n",
    "Before we proceed with some examples, let's also have a look at the `flags` available.\n",
    "\n",
    "**Flags**\n",
    "1. **`cv2.IMREAD_GRAYSCALE`** or **`0`**: Loads image in grayscale mode\n",
    "2. **`cv2.IMREAD_COLOR`** or **`1`**: Loads a color image. Any transparency of image will be neglected. It is the default flag.\n",
    "3. **`cv2.IMREAD_UNCHANGED`** or **`-1`**: Loads image as such including alpha channel. Whenever using transperent png, ensure to use this option.\n"
   ]
  },
  {
   "cell_type": "markdown",
   "metadata": {},
   "source": [
    "Let us load this image and discuss further\n",
    "<img src=\"https://www.dropbox.com/s/ed0r779b052o0s2/number_zero.jpg?dl=1\" width=100>"
   ]
  },
  {
   "cell_type": "code",
   "execution_count": 3,
   "metadata": {},
   "outputs": [
    {
     "name": "stdout",
     "output_type": "stream",
     "text": [
      "[[  1   0   3   0   3   0   3   2   4   2   0]\n",
      " [  0   1   0   3   3 253 253   0   0   2   1]\n",
      " [  0   0   8   0 249 255 255 253  71   1   5]\n",
      " [  3   0   2 251 255   2   0 253 254   0   2]\n",
      " [  1   5   0 252   4   0   3   0 255   4   0]\n",
      " [  0   0   2 255   0   0   0   3 253   0   4]\n",
      " [  0   5   4 249   4   2   0   0 255   1   0]\n",
      " [  2   0   0 255   3   0   5   0 254   0   4]\n",
      " [  0   0   0 255   1   0   0   3 255   0   0]\n",
      " [  1   5   0 252   2   2   2  76 250   7   0]\n",
      " [  0   0   5   0 254   0   0 255 254   0   1]\n",
      " [  0   8   0   3 253 253 255 250   1   2   1]\n",
      " [  2   0   0   0   5   0   4   1   3   0   0]]\n"
     ]
    }
   ],
   "source": [
    "imagePath = DATA_PATH + \"/images/number_zero.jpg\"\n",
    "\n",
    "# Read image in Grayscale format\n",
    "testImage = cv2.imread(imagePath,0)  # 0 for grayscale - not a good practice, instead use cv2.IMREAD_GRAYSCALE\n",
    "print(testImage)"
   ]
  },
  {
   "attachments": {},
   "cell_type": "markdown",
   "metadata": {},
   "source": [
    "We print the 2-dimensional array to see what the image is. You can make out that the image signifies a `0`. Whenever cv2.imread() is used, the variable (testImage) will be a numpy array. We will discuss more about numpy arrays in the next module."
   ]
  },
  {
   "cell_type": "markdown",
   "metadata": {},
   "source": [
    "## <font style=\"color:rgb(50,120,229)\">Intensity </font>\n",
    "The values printed above are the intensity values of each pixel. \n",
    "\n",
    "**0 means black pixel and as the value increases, it moves towards white. A value of 255 is a white pixel.**"
   ]
  },
  {
   "cell_type": "markdown",
   "metadata": {},
   "source": [
    "## <font style=\"color:rgb(50,120,229)\">Image Properties</font>"
   ]
  },
  {
   "cell_type": "code",
   "execution_count": 4,
   "metadata": {},
   "outputs": [
    {
     "name": "stdout",
     "output_type": "stream",
     "text": [
      "Data type = uint8\n",
      "\n",
      "Object type = <class 'numpy.ndarray'>\n",
      "\n",
      "Image Dimensions = (13, 11)\n",
      "\n"
     ]
    }
   ],
   "source": [
    "print(\"Data type = {}\\n\".format(testImage.dtype))  # uint8 - unsigned integer 8 bits (0-255)\n",
    "print(\"Object type = {}\\n\".format(type(testImage)))\n",
    "print(\"Image Dimensions = {}\\n\".format(testImage.shape)) # (13,11) - numpy array of 13 rows and 11 columns, however, the image is 11x13 pixels"
   ]
  },
  {
   "cell_type": "markdown",
   "metadata": {},
   "source": [
    "The following observations can be made:\n",
    "1. The datatype of the loaded image is **unsigned int and the depth is 8 bit**\n",
    "1. The image is just a 2-dimesional numpy array with values ranging from **0 to 255**.\n",
    "1. The size or resolution is **13x11** which means **height=13 and witdh=11**. In other words, it has **13 rows and 11 columns**.\n"
   ]
  },
  {
   "cell_type": "markdown",
   "metadata": {},
   "source": [
    "#### <font style=\"color:rgb(200,0,0)\">NOTE</font>\n",
    "It should be kept in mind that in OpenCV, size is represented as a tuple of `widthxheight` or `#columnsX#rows`. But in numpy, the shape method returns size as a tuple of `heightxwidth`."
   ]
  },
  {
   "attachments": {},
   "cell_type": "markdown",
   "metadata": {},
   "source": [
    "#### What happen if we try to read this image as a color image, and whats the dimensions look like?\n",
    "#### What happen if we try to read this image as a png style image?"
   ]
  },
  {
   "cell_type": "code",
   "execution_count": 5,
   "metadata": {},
   "outputs": [
    {
     "ename": "TypeError",
     "evalue": "'int' object is not callable",
     "output_type": "error",
     "traceback": [
      "\u001b[1;31m---------------------------------------------------------------------------\u001b[0m",
      "\u001b[1;31mTypeError\u001b[0m                                 Traceback (most recent call last)",
      "Cell \u001b[1;32mIn[5], line 2\u001b[0m\n\u001b[0;32m      1\u001b[0m \u001b[39m# trying to read the image in color format\u001b[39;00m\n\u001b[1;32m----> 2\u001b[0m testImage_color \u001b[39m=\u001b[39m cv2\u001b[39m.\u001b[39;49mIMREAD_COLOR(imagePath)       \u001b[39m# this will throw an error as the image is not read in color format\u001b[39;00m\n\u001b[0;32m      3\u001b[0m \u001b[39mprint\u001b[39m(testImage_color)\n",
      "\u001b[1;31mTypeError\u001b[0m: 'int' object is not callable"
     ]
    }
   ],
   "source": [
    "# trying to read the image in color format\n",
    "testImage_color = cv2.IMREAD_COLOR(imagePath)       # this will throw an error as the image is not read in color format\n",
    "print(testImage_color)"
   ]
  },
  {
   "cell_type": "code",
   "execution_count": 7,
   "metadata": {},
   "outputs": [
    {
     "name": "stdout",
     "output_type": "stream",
     "text": [
      "[[[  1   1   1]\n",
      "  [  0   0   0]\n",
      "  [  3   3   3]\n",
      "  [  0   0   0]\n",
      "  [  3   3   3]\n",
      "  [  0   0   0]\n",
      "  [  3   3   3]\n",
      "  [  2   2   2]\n",
      "  [  4   4   4]\n",
      "  [  2   2   2]\n",
      "  [  0   0   0]]\n",
      "\n",
      " [[  0   0   0]\n",
      "  [  1   1   1]\n",
      "  [  0   0   0]\n",
      "  [  3   3   3]\n",
      "  [  3   3   3]\n",
      "  [253 253 253]\n",
      "  [253 253 253]\n",
      "  [  0   0   0]\n",
      "  [  0   0   0]\n",
      "  [  2   2   2]\n",
      "  [  1   1   1]]\n",
      "\n",
      " [[  0   0   0]\n",
      "  [  0   0   0]\n",
      "  [  8   8   8]\n",
      "  [  0   0   0]\n",
      "  [249 249 249]\n",
      "  [255 255 255]\n",
      "  [255 255 255]\n",
      "  [253 253 253]\n",
      "  [ 71  71  71]\n",
      "  [  1   1   1]\n",
      "  [  5   5   5]]\n",
      "\n",
      " [[  3   3   3]\n",
      "  [  0   0   0]\n",
      "  [  2   2   2]\n",
      "  [251 251 251]\n",
      "  [255 255 255]\n",
      "  [  2   2   2]\n",
      "  [  0   0   0]\n",
      "  [253 253 253]\n",
      "  [254 254 254]\n",
      "  [  0   0   0]\n",
      "  [  2   2   2]]\n",
      "\n",
      " [[  1   1   1]\n",
      "  [  5   5   5]\n",
      "  [  0   0   0]\n",
      "  [252 252 252]\n",
      "  [  4   4   4]\n",
      "  [  0   0   0]\n",
      "  [  3   3   3]\n",
      "  [  0   0   0]\n",
      "  [255 255 255]\n",
      "  [  4   4   4]\n",
      "  [  0   0   0]]\n",
      "\n",
      " [[  0   0   0]\n",
      "  [  0   0   0]\n",
      "  [  2   2   2]\n",
      "  [255 255 255]\n",
      "  [  0   0   0]\n",
      "  [  0   0   0]\n",
      "  [  0   0   0]\n",
      "  [  3   3   3]\n",
      "  [253 253 253]\n",
      "  [  0   0   0]\n",
      "  [  4   4   4]]\n",
      "\n",
      " [[  0   0   0]\n",
      "  [  5   5   5]\n",
      "  [  4   4   4]\n",
      "  [249 249 249]\n",
      "  [  4   4   4]\n",
      "  [  2   2   2]\n",
      "  [  0   0   0]\n",
      "  [  0   0   0]\n",
      "  [255 255 255]\n",
      "  [  1   1   1]\n",
      "  [  0   0   0]]\n",
      "\n",
      " [[  2   2   2]\n",
      "  [  0   0   0]\n",
      "  [  0   0   0]\n",
      "  [255 255 255]\n",
      "  [  3   3   3]\n",
      "  [  0   0   0]\n",
      "  [  5   5   5]\n",
      "  [  0   0   0]\n",
      "  [254 254 254]\n",
      "  [  0   0   0]\n",
      "  [  4   4   4]]\n",
      "\n",
      " [[  0   0   0]\n",
      "  [  0   0   0]\n",
      "  [  0   0   0]\n",
      "  [255 255 255]\n",
      "  [  1   1   1]\n",
      "  [  0   0   0]\n",
      "  [  0   0   0]\n",
      "  [  3   3   3]\n",
      "  [255 255 255]\n",
      "  [  0   0   0]\n",
      "  [  0   0   0]]\n",
      "\n",
      " [[  1   1   1]\n",
      "  [  5   5   5]\n",
      "  [  0   0   0]\n",
      "  [252 252 252]\n",
      "  [  2   2   2]\n",
      "  [  2   2   2]\n",
      "  [  2   2   2]\n",
      "  [ 76  76  76]\n",
      "  [250 250 250]\n",
      "  [  7   7   7]\n",
      "  [  0   0   0]]\n",
      "\n",
      " [[  0   0   0]\n",
      "  [  0   0   0]\n",
      "  [  5   5   5]\n",
      "  [  0   0   0]\n",
      "  [254 254 254]\n",
      "  [  0   0   0]\n",
      "  [  0   0   0]\n",
      "  [255 255 255]\n",
      "  [254 254 254]\n",
      "  [  0   0   0]\n",
      "  [  1   1   1]]\n",
      "\n",
      " [[  0   0   0]\n",
      "  [  8   8   8]\n",
      "  [  0   0   0]\n",
      "  [  3   3   3]\n",
      "  [253 253 253]\n",
      "  [253 253 253]\n",
      "  [255 255 255]\n",
      "  [250 250 250]\n",
      "  [  1   1   1]\n",
      "  [  2   2   2]\n",
      "  [  1   1   1]]\n",
      "\n",
      " [[  2   2   2]\n",
      "  [  0   0   0]\n",
      "  [  0   0   0]\n",
      "  [  0   0   0]\n",
      "  [  5   5   5]\n",
      "  [  0   0   0]\n",
      "  [  4   4   4]\n",
      "  [  1   1   1]\n",
      "  [  3   3   3]\n",
      "  [  0   0   0]\n",
      "  [  0   0   0]]]\n"
     ]
    }
   ],
   "source": [
    "testImage_color2 = cv2.imread(imagePath,1)  # 1 for color            # output is a numpy array of 13 rows, 11 columns and 3 channels (BGR)\n",
    "print(testImage_color2)"
   ]
  },
  {
   "cell_type": "code",
   "execution_count": 8,
   "metadata": {},
   "outputs": [
    {
     "name": "stdout",
     "output_type": "stream",
     "text": [
      "Data type = uint8\n",
      "\n",
      "Object type = <class 'numpy.ndarray'>\n",
      "\n",
      "Image Dimensions = (13, 11, 3)\n",
      "\n"
     ]
    }
   ],
   "source": [
    "print(\"Data type = {}\\n\".format(testImage_color2.dtype))       # uint8 - unsigned integer 8 bits (0-255), but 3 channels (BGR) b/c color image \n",
    "print(\"Object type = {}\\n\".format(type(testImage_color2)))     # numpy array\n",
    "print(\"Image Dimensions = {}\\n\".format(testImage_color2.shape)) # (13,11,3) - numpy array of 13 rows, 11 columns and 3 channels (BGR) b/c of color image"
   ]
  },
  {
   "attachments": {},
   "cell_type": "markdown",
   "metadata": {},
   "source": [
    "### Q- how to interpret the intensity value of a pixel in a color image?\n",
    "A- In grayscale mode, several shades of gray are used to create a picture. There can be up to 256 shades of gray in an 8-bit picture. A grayscale image's brightness value ranges from 0 (black) to 255 (white). \n",
    "\n",
    "To replicate colors on screen, RGB pictures make use of three hues, or channels. The three channels in an 8-bit-per-channel picture convert to 24 bits of color information per pixel (8 bits x 3 channels). In color mode, the color is represented by a combination of three primary colors: red, green, and blue. Each of these primary colors can have a value from 0 to 255. The three channels can reproduce up to 16.7 million colors per pixel when working with 24bit pictures.\n",
    "\n",
    "#### Examples:\n",
    "The color black is represented by the combination of all three primary colors set to 0. \n",
    "\n",
    "The color white is represented by the combination of all three primary colors set to 255. \n",
    "\n",
    "The color red is represented by the combination of red set to 255, green set to 0, and blue set to 0. \n",
    "\n",
    "The color green is represented by the combination of red set to 0, green set to 255, and blue set to 0. \n",
    "\n",
    "The color blue is represented by the combination of red set to 0, green set to 0, and blue set to 255. \n",
    "\n",
    "The color yellow is represented by the combination of red set to 255, green set to 255, and blue set to 0. \n",
    "\n",
    "The color cyan is represented by the combination of red set to 0, green set to 255, and blue set to 255. \n",
    "\n",
    "The color magenta is represented by the combination of red set to 255, green set to 0, and blue set to 255. \n",
    "\n",
    "The color orange is represented by the combination of red set to 255, green set to 165, and blue set to 0. \n",
    "\n",
    "The color purple is represented by the combination of red set to 128, green set to 0, and blue set to 128. \n",
    "\n",
    "The color brown is represented by the combination of red set to 165, green set to 42, and blue set to 42. \n",
    "\n",
    "The color pink is represented by the combination of red set to 255, green set to 192, and blue set to 203.\n",
    "\n",
    "The color gray is represented by the combination of red set to 128, green set to 128, and blue set to 128. \n",
    "\n",
    "The color silver is represented by the combination of red set to 192, green set to 192, and blue set to 192. \n",
    "\n",
    "The color olive is represented by the combination of red set to 128, green set to 128, and blue set to 0. \n",
    "\n",
    "The color maroon is represented by the combination of red set to 128, green set to 0, and blue set to 0. \n",
    "\n",
    "The color aqua is represented by the combination of red set to 0, green set to 255, and blue set to 255. \n",
    "\n",
    "\n",
    "\n"
   ]
  },
  {
   "attachments": {},
   "cell_type": "markdown",
   "metadata": {},
   "source": [
    "#### Q- Are we trying to reduce the computation complexity and expenses when a colored image converted to greyscale image?\n",
    "A- Yes, we are trying to reduce the computation complexity and expenses here compared to the same image in Color mode with 3 channels.\n",
    "\n",
    "#### Q- Do we always need to convert a colored image to greyscale image?\n",
    "A- No, we don't always need to convert a colored image to greyscale image. It depends on the application. For example, if we are trying to detect the edges of an object, we don't need to convert the image to greyscale. But if we are trying to detect the color of an object, we need to convert the image to greyscale.\n",
    "\n",
    "#### Q- What if I try to load a colored image in grayscale mode?\n",
    "A- If you try to load a colored image in grayscale mode, the image will be loaded in grayscale mode but the color information will be lost. The weights of the three channels will be added to get the grayscale value of the pixel. The weights are 0.114 for blue, 0.587 for green, and 0.299 for red. The weights are chosen to match the human perception of the relative intensity of each color. Y = 0.299 R + 0.587 G + 0.114 B\n",
    "\n",
    "\n",
    "\n"
   ]
  },
  {
   "cell_type": "code",
   "execution_count": 6,
   "metadata": {},
   "outputs": [
    {
     "ename": "TypeError",
     "evalue": "'int' object is not callable",
     "output_type": "error",
     "traceback": [
      "\u001b[1;31m---------------------------------------------------------------------------\u001b[0m",
      "\u001b[1;31mTypeError\u001b[0m                                 Traceback (most recent call last)",
      "Cell \u001b[1;32mIn[6], line 2\u001b[0m\n\u001b[0;32m      1\u001b[0m \u001b[39m# trying to read the image in png format\u001b[39;00m\n\u001b[1;32m----> 2\u001b[0m testImage_png \u001b[39m=\u001b[39m cv2\u001b[39m.\u001b[39;49mIMREAD_UNCHANGED(imagePath)     \u001b[39m# this will throw an error as the image is not read in png format\u001b[39;00m\n\u001b[0;32m      3\u001b[0m \u001b[39mprint\u001b[39m(testImage_png)\n",
      "\u001b[1;31mTypeError\u001b[0m: 'int' object is not callable"
     ]
    }
   ],
   "source": [
    "# trying to read the image in png format\n",
    "testImage_png = cv2.IMREAD_UNCHANGED(imagePath)     # this will throw an error as the image is not read in png format\n",
    "print(testImage_png)"
   ]
  },
  {
   "cell_type": "code",
   "execution_count": 9,
   "metadata": {},
   "outputs": [
    {
     "name": "stdout",
     "output_type": "stream",
     "text": [
      "[[  1   0   3   0   3   0   3   2   4   2   0]\n",
      " [  0   1   0   3   3 253 253   0   0   2   1]\n",
      " [  0   0   8   0 249 255 255 253  71   1   5]\n",
      " [  3   0   2 251 255   2   0 253 254   0   2]\n",
      " [  1   5   0 252   4   0   3   0 255   4   0]\n",
      " [  0   0   2 255   0   0   0   3 253   0   4]\n",
      " [  0   5   4 249   4   2   0   0 255   1   0]\n",
      " [  2   0   0 255   3   0   5   0 254   0   4]\n",
      " [  0   0   0 255   1   0   0   3 255   0   0]\n",
      " [  1   5   0 252   2   2   2  76 250   7   0]\n",
      " [  0   0   5   0 254   0   0 255 254   0   1]\n",
      " [  0   8   0   3 253 253 255 250   1   2   1]\n",
      " [  2   0   0   0   5   0   4   1   3   0   0]]\n"
     ]
    }
   ],
   "source": [
    "testImage_png2 = cv2.imread(imagePath,-1)  # -1 for png format\n",
    "print(testImage_png2)                     # same as grey scale image as png format is not supported"
   ]
  },
  {
   "cell_type": "code",
   "execution_count": 11,
   "metadata": {},
   "outputs": [
    {
     "name": "stdout",
     "output_type": "stream",
     "text": [
      "Data type = uint8\n",
      "\n",
      "Object type = <class 'numpy.ndarray'>\n",
      "\n",
      "Image Dimensions = (13, 11)\n",
      "\n"
     ]
    }
   ],
   "source": [
    "print(\"Data type = {}\\n\".format(testImage_png2.dtype))      # uint8 - unsigned integer 8 bits (0-255), however the image is png format with transparency channel - 4 channels (BGR + alpha)\n",
    "print(\"Object type = {}\\n\".format(type(testImage_png2)))    # numpy array\n",
    "print(\"Image Dimensions = {}\\n\".format(testImage_png2.shape))      \n"
   ]
  },
  {
   "attachments": {},
   "cell_type": "markdown",
   "metadata": {},
   "source": [
    "### Q- Why it appeas to be a representation of a grey scale image, though we tried to load it as a png image?\n",
    "A- Since the loaded image is in JPEG format, it is loaded as a grayscale image. Since the alpha channel is not used in JPEG, the 4th channel is ignored. The image is loaded as a grayscale image and the alpha channel is ignored.\n",
    "\n"
   ]
  },
  {
   "cell_type": "code",
   "execution_count": null,
   "metadata": {},
   "outputs": [],
   "source": []
  }
 ],
 "metadata": {
  "kernelspec": {
   "display_name": "opencv",
   "language": "python",
   "name": "python3"
  },
  "language_info": {
   "codemirror_mode": {
    "name": "ipython",
    "version": 3
   },
   "file_extension": ".py",
   "mimetype": "text/x-python",
   "name": "python",
   "nbconvert_exporter": "python",
   "pygments_lexer": "ipython3",
   "version": "3.11.0"
  },
  "vscode": {
   "interpreter": {
    "hash": "79beebd6834f850463b097f993badc2f68c8b9659f99b2568dc0447e85ace964"
   }
  }
 },
 "nbformat": 4,
 "nbformat_minor": 2
}
