{
 "cells": [
  {
   "cell_type": "markdown",
   "metadata": {},
   "source": [
    "# <font style=\"color:rgb(50,120,229)\">Manipulating Group of Pixels</font>\n",
    "So, now we know how to manipulate individual pixels. But what about a region or group of pixels? It can be done using range based indexing available in python. \n",
    "\n",
    "Let is try to access the values of a region and name it `test_roi`. ( *ROI is an abbreviation for Region of Interest* )"
   ]
  },
  {
   "attachments": {},
   "cell_type": "markdown",
   "metadata": {},
   "source": [
    "#### Agenda\n",
    "- Accessing a region of pixels or extract a particular region of interest\n",
    "- Assigning a value to a region of pixels\n"
   ]
  },
  {
   "cell_type": "markdown",
   "metadata": {},
   "source": [
    "## <font style=\"color:rgb(50,120,229)\">Access a region</font>"
   ]
  },
  {
   "cell_type": "code",
   "execution_count": 1,
   "metadata": {
    "collapsed": true
   },
   "outputs": [],
   "source": [
    "# Import libraries\n",
    "import cv2\n",
    "import numpy as np\n",
    "from dataPath import DATA_PATH\n",
    "import matplotlib.pyplot as plt\n",
    "%matplotlib inline"
   ]
  },
  {
   "cell_type": "code",
   "execution_count": 2,
   "metadata": {
    "collapsed": true
   },
   "outputs": [],
   "source": [
    "import matplotlib\n",
    "matplotlib.rcParams['figure.figsize'] = (6.0, 6.0)\n",
    "matplotlib.rcParams['image.cmap'] = 'gray'"
   ]
  },
  {
   "cell_type": "code",
   "execution_count": 3,
   "metadata": {
    "collapsed": true
   },
   "outputs": [],
   "source": [
    "imagePath = DATA_PATH + \"/images/number_zero.jpg\"\n",
    "\n",
    "# Read image in Grayscale format\n",
    "testImage = cv2.imread(imagePath,0)"
   ]
  },
  {
   "cell_type": "code",
   "execution_count": 4,
   "metadata": {},
   "outputs": [
    {
     "name": "stdout",
     "output_type": "stream",
     "text": [
      "Original Matrix\n",
      "[[  1   0   3   0   3   0   3   2   4   2   0]\n",
      " [  0   1   0   3   3 253 253   0   0   2   1]\n",
      " [  0   0   8   0 249 255 255 253  71   1   5]\n",
      " [  3   0   2 251 255   2   0 253 254   0   2]\n",
      " [  1   5   0 252   4   0   3   0 255   4   0]\n",
      " [  0   0   2 255   0   0   0   3 253   0   4]\n",
      " [  0   5   4 249   4   2   0   0 255   1   0]\n",
      " [  2   0   0 255   3   0   5   0 254   0   4]\n",
      " [  0   0   0 255   1   0   0   3 255   0   0]\n",
      " [  1   5   0 252   2   2   2  76 250   7   0]\n",
      " [  0   0   5   0 254   0   0 255 254   0   1]\n",
      " [  0   8   0   3 253 253 255 250   1   2   1]\n",
      " [  2   0   0   0   5   0   4   1   3   0   0]]\n",
      "\n",
      "Selected Region\n",
      "[[1 0 3 0]\n",
      " [0 1 0 3]]\n",
      "\n"
     ]
    }
   ],
   "source": [
    "test_roi = testImage[0:2,0:4]        # Select a 2x4 region of interest (ROI) - top left corner [first 2 rows, first 4 columns]\n",
    "print(\"Original Matrix\\n{}\\n\".format(testImage))\n",
    "print(\"Selected Region\\n{}\\n\".format(test_roi))"
   ]
  },
  {
   "cell_type": "markdown",
   "metadata": {},
   "source": [
    "## <font style=\"color:rgb(50,120,229)\">Modifying a region</font>\n",
    "Modifying a region is also straightforward. "
   ]
  },
  {
   "cell_type": "code",
   "execution_count": 5,
   "metadata": {},
   "outputs": [
    {
     "name": "stdout",
     "output_type": "stream",
     "text": [
      "Modified Matrix\n",
      "[[111 111 111 111   3   0   3   2   4   2   0]\n",
      " [111 111 111 111   3 253 253   0   0   2   1]\n",
      " [  0   0   8   0 249 255 255 253  71   1   5]\n",
      " [  3   0   2 251 255   2   0 253 254   0   2]\n",
      " [  1   5   0 252   4   0   3   0 255   4   0]\n",
      " [  0   0   2 255   0   0   0   3 253   0   4]\n",
      " [  0   5   4 249   4   2   0   0 255   1   0]\n",
      " [  2   0   0 255   3   0   5   0 254   0   4]\n",
      " [  0   0   0 255   1   0   0   3 255   0   0]\n",
      " [  1   5   0 252   2   2   2  76 250   7   0]\n",
      " [  0   0   5   0 254   0   0 255 254   0   1]\n",
      " [  0   8   0   3 253 253 255 250   1   2   1]\n",
      " [  2   0   0   0   5   0   4   1   3   0   0]]\n",
      "\n"
     ]
    }
   ],
   "source": [
    "testImage[0:2,0:4] = 111            # Set the ROI to 111\n",
    "print(\"Modified Matrix\\n{}\\n\".format(testImage))"
   ]
  },
  {
   "cell_type": "code",
   "execution_count": 7,
   "metadata": {},
   "outputs": [
    {
     "name": "stdout",
     "output_type": "stream",
     "text": [
      "Selected Region\n",
      "[[249 255 255 253]\n",
      " [255   2   0 253]]\n",
      "\n"
     ]
    }
   ],
   "source": [
    "test_roi_2= testImage[2:4,4:8]       # Select the same ROI again\n",
    "print(\"Selected Region\\n{}\\n\".format(test_roi_2))"
   ]
  },
  {
   "cell_type": "code",
   "execution_count": 8,
   "metadata": {},
   "outputs": [
    {
     "name": "stdout",
     "output_type": "stream",
     "text": [
      "Modified Matrix\n",
      "[[111 111 111 111   3   0   3   2   4   2   0]\n",
      " [111 111 111 111   3 253 253   0   0   2   1]\n",
      " [  0   0   8   0 188 188 188 188  71   1   5]\n",
      " [  3   0   2 251 188 188 188 188 254   0   2]\n",
      " [  1   5   0 252   4   0   3   0 255   4   0]\n",
      " [  0   0   2 255   0   0   0   3 253   0   4]\n",
      " [  0   5   4 249   4   2   0   0 255   1   0]\n",
      " [  2   0   0 255   3   0   5   0 254   0   4]\n",
      " [  0   0   0 255   1   0   0   3 255   0   0]\n",
      " [  1   5   0 252   2   2   2  76 250   7   0]\n",
      " [  0   0   5   0 254   0   0 255 254   0   1]\n",
      " [  0   8   0   3 253 253 255 250   1   2   1]\n",
      " [  2   0   0   0   5   0   4   1   3   0   0]]\n",
      "\n"
     ]
    },
    {
     "name": "stderr",
     "output_type": "stream",
     "text": [
      "C:\\Users\\Naveed Ul Mustafa\\AppData\\Local\\Temp\\ipykernel_17012\\1434611431.py:1: DeprecationWarning: NumPy will stop allowing conversion of out-of-bound Python integers to integer arrays.  The conversion of 444 to uint8 will fail in the future.\n",
      "For the old behavior, usually:\n",
      "    np.array(value).astype(dtype)`\n",
      "will give the desired result (the cast overflows).\n",
      "  testImage[2:4,4:8] = 444            # Set the ROI to 444\n"
     ]
    }
   ],
   "source": [
    "testImage[2:4,4:8] = 444            # Set the ROI to 444\n",
    "print(\"Modified Matrix\\n{}\\n\".format(testImage))      # shows the ROI is set to 444-256=188"
   ]
  },
  {
   "cell_type": "code",
   "execution_count": null,
   "metadata": {},
   "outputs": [],
   "source": []
  }
 ],
 "metadata": {
  "kernelspec": {
   "display_name": "opencv",
   "language": "python",
   "name": "python3"
  },
  "language_info": {
   "codemirror_mode": {
    "name": "ipython",
    "version": 3
   },
   "file_extension": ".py",
   "mimetype": "text/x-python",
   "name": "python",
   "nbconvert_exporter": "python",
   "pygments_lexer": "ipython3",
   "version": "3.11.0"
  },
  "vscode": {
   "interpreter": {
    "hash": "79beebd6834f850463b097f993badc2f68c8b9659f99b2568dc0447e85ace964"
   }
  }
 },
 "nbformat": 4,
 "nbformat_minor": 2
}
